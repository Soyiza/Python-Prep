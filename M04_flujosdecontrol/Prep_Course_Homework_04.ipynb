{
 "cells": [
  {
   "attachments": {},
   "cell_type": "markdown",
   "metadata": {},
   "source": [
    "## Flujos de Control"
   ]
  },
  {
   "attachments": {},
   "cell_type": "markdown",
   "metadata": {},
   "source": [
    "1) Crear una variable que contenga un elemento del conjunto de números enteros y luego imprimir por pantalla si es mayor o menor a cero"
   ]
  },
  {
   "cell_type": "code",
   "execution_count": 2,
   "metadata": {},
   "outputs": [
    {
     "name": "stdout",
     "output_type": "stream",
     "text": [
      "sor es mayor que 0\n"
     ]
    }
   ],
   "source": [
    "sor= 8\n",
    "if sor<0:\n",
    "    print(\"sor es menor que 0\")\n",
    "elif sor>0:\n",
    "    print(\"sor es mayor que 0\")\n",
    "else:\n",
    "    print(\"sor es igual que 0\")"
   ]
  },
  {
   "attachments": {},
   "cell_type": "markdown",
   "metadata": {},
   "source": [
    "2) Crear dos variables y un condicional que informe si son del mismo tipo de dato"
   ]
  },
  {
   "cell_type": "code",
   "execution_count": 12,
   "metadata": {},
   "outputs": [
    {
     "name": "stdout",
     "output_type": "stream",
     "text": [
      "Las varibales no son del mismo tipo de datos.\n"
     ]
    }
   ],
   "source": [
    "var_1= 'Germany'\n",
    "var_2= 234.5\n",
    "if (type(var_1) == type(var_2)):\n",
    "    print(\"Las variables son del mismo tipo de datos.\")\n",
    "else:\n",
    "    print(\"Las varibales no son del mismo tipo de datos.\")"
   ]
  },
  {
   "attachments": {},
   "cell_type": "markdown",
   "metadata": {},
   "source": [
    "3) Para los valores enteros del 1 al 20, imprimir por pantalla si es par o impar"
   ]
  },
  {
   "cell_type": "code",
   "execution_count": 16,
   "metadata": {},
   "outputs": [
    {
     "name": "stdout",
     "output_type": "stream",
     "text": [
      "El número  1  es impar\n",
      "El número  2  es par\n",
      "El número  3  es impar\n",
      "El número  4  es par\n",
      "El número  5  es impar\n",
      "El número  6  es par\n",
      "El número  7  es impar\n",
      "El número  8  es par\n",
      "El número  9  es impar\n",
      "El número  10  es par\n",
      "El número  11  es impar\n",
      "El número  12  es par\n",
      "El número  13  es impar\n",
      "El número  14  es par\n",
      "El número  15  es impar\n",
      "El número  16  es par\n",
      "El número  17  es impar\n",
      "El número  18  es par\n",
      "El número  19  es impar\n",
      "El número  20  es par\n"
     ]
    }
   ],
   "source": [
    "for i in range (1, 21):\n",
    "    if i % 2 == 0:\n",
    "        print(\"El número \", str(i), \" es par\")\n",
    "    else:\n",
    "        print(\"El número \", str(i), \" es impar\")"
   ]
  },
  {
   "attachments": {},
   "cell_type": "markdown",
   "metadata": {},
   "source": [
    "4) En un ciclo for mostrar para los valores entre 0 y 5 el resultado de elevarlo a la potencia igual a 3"
   ]
  },
  {
   "cell_type": "code",
   "execution_count": 1,
   "metadata": {},
   "outputs": [
    {
     "name": "stdout",
     "output_type": "stream",
     "text": [
      "0  Elevado a la 3ra potencia da como resultado:  0\n",
      "1  Elevado a la 3ra potencia da como resultado:  1\n",
      "2  Elevado a la 3ra potencia da como resultado:  8\n",
      "3  Elevado a la 3ra potencia da como resultado:  27\n",
      "4  Elevado a la 3ra potencia da como resultado:  64\n",
      "5  Elevado a la 3ra potencia da como resultado:  125\n"
     ]
    }
   ],
   "source": [
    "for i in range (0, 6):\n",
    "    print(str(i), \" Elevado a la 3ra potencia da como resultado: \", str(i**3))"
   ]
  },
  {
   "attachments": {},
   "cell_type": "markdown",
   "metadata": {},
   "source": [
    "5) Crear una variable que contenga un número entero y realizar un ciclo for la misma cantidad de ciclos"
   ]
  },
  {
   "cell_type": "code",
   "execution_count": 2,
   "metadata": {},
   "outputs": [
    {
     "name": "stdout",
     "output_type": "stream",
     "text": [
      "14\n"
     ]
    }
   ],
   "source": [
    "h= 15\n",
    "for i in range(0, h):\n",
    "    pass\n",
    "print(i)"
   ]
  },
  {
   "attachments": {},
   "cell_type": "markdown",
   "metadata": {},
   "source": [
    "6) Utilizar un ciclo while para realizar el factorial de un número guardado en una variable, sólo si la variable contiene un número entero mayor a 0"
   ]
  },
  {
   "cell_type": "code",
   "execution_count": 25,
   "metadata": {},
   "outputs": [
    {
     "name": "stdout",
     "output_type": "stream",
     "text": [
      "El factorial es:  362880\n"
     ]
    }
   ],
   "source": [
    "n= 9\n",
    "if (n > 0):\n",
    "    factorial = n\n",
    "    while (n > 1):\n",
    "        n = n - 1\n",
    "        factorial = factorial * n\n",
    "    print(\"El factorial es: \", factorial)\n",
    "else:\n",
    "    print(\"No se puede mostrar el factorial\")\n"
   ]
  },
  {
   "attachments": {},
   "cell_type": "markdown",
   "metadata": {},
   "source": [
    "7) Crear un ciclo for dentro de un ciclo while"
   ]
  },
  {
   "cell_type": "code",
   "execution_count": 29,
   "metadata": {},
   "outputs": [
    {
     "name": "stdout",
     "output_type": "stream",
     "text": [
      "Ciclo While 1\n",
      "Ciclo For 1\n",
      "Ciclo While 2\n",
      "Ciclo For 1\n",
      "Ciclo For 2\n",
      "Ciclo While 4\n",
      "Ciclo For 1\n",
      "Ciclo For 2\n",
      "Ciclo For 3\n",
      "Ciclo For 4\n"
     ]
    }
   ],
   "source": [
    "n= 1\n",
    "while n<6:\n",
    "    print(\"Ciclo While \" + str(n))\n",
    "    for i in range(1, n+1):\n",
    "        print(\"Ciclo For \" + str(i))\n",
    "        n += 1"
   ]
  },
  {
   "attachments": {},
   "cell_type": "markdown",
   "metadata": {},
   "source": [
    "8) Crear un ciclo while dentro de un ciclo for"
   ]
  },
  {
   "cell_type": "code",
   "execution_count": 56,
   "metadata": {},
   "outputs": [
    {
     "name": "stdout",
     "output_type": "stream",
     "text": [
      "Los capitulos tratan sobre lo siguiente: 314\n",
      "etapa 320\n",
      "etapa 319\n",
      "etapa 318\n",
      "etapa 317\n",
      "etapa 316\n",
      "etapa 315\n",
      "etapa 314\n",
      "Los capitulos tratan sobre lo siguiente: 315\n",
      "etapa 320\n",
      "etapa 319\n",
      "etapa 318\n",
      "etapa 317\n",
      "etapa 316\n",
      "etapa 315\n",
      "etapa 314\n",
      "Los capitulos tratan sobre lo siguiente: 316\n",
      "etapa 320\n",
      "etapa 319\n",
      "etapa 318\n",
      "etapa 317\n",
      "etapa 316\n",
      "etapa 315\n",
      "etapa 314\n",
      "Los capitulos tratan sobre lo siguiente: 317\n",
      "etapa 320\n",
      "etapa 319\n",
      "etapa 318\n",
      "etapa 317\n",
      "etapa 316\n",
      "etapa 315\n",
      "etapa 314\n",
      "Los capitulos tratan sobre lo siguiente: 318\n",
      "etapa 320\n",
      "etapa 319\n",
      "etapa 318\n",
      "etapa 317\n",
      "etapa 316\n",
      "etapa 315\n",
      "etapa 314\n",
      "Los capitulos tratan sobre lo siguiente: 319\n",
      "etapa 320\n",
      "etapa 319\n",
      "etapa 318\n",
      "etapa 317\n",
      "etapa 316\n",
      "etapa 315\n",
      "etapa 314\n"
     ]
    }
   ],
   "source": [
    "n= 320\n",
    "for i in range(314, n):\n",
    "    print('Los capitulos tratan sobre lo siguiente: ' + str(i)) #Representa el ciclo for.\n",
    "    libro= n\n",
    "    while libro > 313:\n",
    "        print('etapa ' + str(libro)) #Representa el ciclo while.\n",
    "        libro -= 1\n",
    "        if libro <= 313:\n",
    "            break"
   ]
  },
  {
   "cell_type": "code",
   "execution_count": 40,
   "metadata": {},
   "outputs": [
    {
     "name": "stdout",
     "output_type": "stream",
     "text": [
      "Este módulo tiene los siguiente temas 8\n",
      "tema 13\n",
      "tema 12\n",
      "tema 11\n",
      "tema 10\n",
      "tema 9\n",
      "tema 8\n",
      "Este módulo tiene los siguiente temas 9\n",
      "tema 13\n",
      "tema 12\n",
      "tema 11\n",
      "tema 10\n",
      "tema 9\n",
      "tema 8\n",
      "Este módulo tiene los siguiente temas 10\n",
      "tema 13\n",
      "tema 12\n",
      "tema 11\n",
      "tema 10\n",
      "tema 9\n",
      "tema 8\n",
      "Este módulo tiene los siguiente temas 11\n",
      "tema 13\n",
      "tema 12\n",
      "tema 11\n",
      "tema 10\n",
      "tema 9\n",
      "tema 8\n",
      "Este módulo tiene los siguiente temas 12\n",
      "tema 13\n",
      "tema 12\n",
      "tema 11\n",
      "tema 10\n",
      "tema 9\n",
      "tema 8\n"
     ]
    }
   ],
   "source": [
    "n= 13\n",
    "for i in range(8, n):\n",
    "    print('Este módulo tiene los siguiente temas ' + str(i)) #Ciclo for\n",
    "    arroz= n\n",
    "    while arroz > 7:\n",
    "        print('tema ' + str(arroz)) #Ciclo While\n",
    "        arroz -= 1\n",
    "        if arroz <= 7:\n",
    "            break"
   ]
  },
  {
   "attachments": {},
   "cell_type": "markdown",
   "metadata": {},
   "source": [
    "9) Imprimir los números primos existentes entre 0 y 30"
   ]
  },
  {
   "cell_type": "code",
   "execution_count": 67,
   "metadata": {},
   "outputs": [
    {
     "name": "stdout",
     "output_type": "stream",
     "text": [
      "0\n",
      "1\n",
      "2\n",
      "3\n",
      "5\n",
      "7\n",
      "11\n",
      "13\n",
      "17\n",
      "19\n",
      "23\n",
      "29\n"
     ]
    }
   ],
   "source": [
    "final= 30\n",
    "comienzo= 0\n",
    "primo= True\n",
    "while (comienzo < final):\n",
    "    for div in range(2, comienzo):\n",
    "        if (comienzo % div == 0):\n",
    "            primo= False\n",
    "    if (primo):\n",
    "            print(comienzo)\n",
    "    else: \n",
    "            primo = True\n",
    "    comienzo += 1"
   ]
  },
  {
   "attachments": {},
   "cell_type": "markdown",
   "metadata": {},
   "source": [
    "10) ¿Se puede mejorar el proceso del punto 9? Utilizar las sentencias break y/ó continue para tal fin"
   ]
  },
  {
   "cell_type": "code",
   "execution_count": 68,
   "metadata": {},
   "outputs": [
    {
     "name": "stdout",
     "output_type": "stream",
     "text": [
      "0\n",
      "1\n",
      "2\n",
      "3\n",
      "5\n",
      "7\n",
      "11\n",
      "13\n",
      "17\n",
      "19\n",
      "23\n",
      "29\n"
     ]
    }
   ],
   "source": [
    "final= 30\n",
    "comienzo= 0\n",
    "primo= True\n",
    "while (comienzo < final):\n",
    "    for div in range(2, comienzo):\n",
    "        if (comienzo % div == 0):\n",
    "            primo= False\n",
    "            break\n",
    "    if (primo):\n",
    "            print(comienzo)\n",
    "    else: \n",
    "            primo = True\n",
    "    comienzo += 1"
   ]
  },
  {
   "attachments": {},
   "cell_type": "markdown",
   "metadata": {},
   "source": [
    "11) En los puntos 9 y 10, se diseño un código que encuentra números primos y además se lo optimizó. ¿Es posible saber en qué medida se optimizó?"
   ]
  },
  {
   "cell_type": "code",
   "execution_count": null,
   "metadata": {},
   "outputs": [],
   "source": []
  },
  {
   "attachments": {},
   "cell_type": "markdown",
   "metadata": {},
   "source": [
    "12) Aplicando continue, armar un ciclo while que solo imprima los valores divisibles por 12, dentro del rango de números de 100 a 300"
   ]
  },
  {
   "cell_type": "code",
   "execution_count": null,
   "metadata": {},
   "outputs": [],
   "source": []
  },
  {
   "attachments": {},
   "cell_type": "markdown",
   "metadata": {},
   "source": [
    "13) Utilizar la función **input()** que permite hacer ingresos por teclado, para encontrar números primos y dar la opción al usario de buscar el siguiente"
   ]
  },
  {
   "cell_type": "code",
   "execution_count": null,
   "metadata": {},
   "outputs": [],
   "source": []
  },
  {
   "attachments": {},
   "cell_type": "markdown",
   "metadata": {},
   "source": [
    "14) Crear un ciclo while que encuentre dentro del rango de 100 a 300 el primer número divisible por 3 y además múltiplo de 6"
   ]
  },
  {
   "cell_type": "code",
   "execution_count": null,
   "metadata": {},
   "outputs": [],
   "source": []
  }
 ],
 "metadata": {
  "kernelspec": {
   "display_name": "Python 3.6.7 64-bit",
   "language": "python",
   "name": "python3"
  },
  "language_info": {
   "codemirror_mode": {
    "name": "ipython",
    "version": 3
   },
   "file_extension": ".py",
   "mimetype": "text/x-python",
   "name": "python",
   "nbconvert_exporter": "python",
   "pygments_lexer": "ipython3",
   "version": "3.6.7"
  },
  "vscode": {
   "interpreter": {
    "hash": "b1ff2dad5d053a4981556c726c0ceb495a435c5367e5bb3dd4119fee13c02cd6"
   }
  }
 },
 "nbformat": 4,
 "nbformat_minor": 4
}
