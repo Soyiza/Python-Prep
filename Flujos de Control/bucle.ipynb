{
 "cells": [
  {
   "cell_type": "code",
   "execution_count": 5,
   "metadata": {},
   "outputs": [
    {
     "name": "stdout",
     "output_type": "stream",
     "text": [
      "1\n"
     ]
    }
   ],
   "source": [
    "rusa= 0\n",
    "rusa= rusa+1\n",
    "print(rusa)"
   ]
  },
  {
   "cell_type": "code",
   "execution_count": 4,
   "metadata": {},
   "outputs": [
    {
     "name": "stdout",
     "output_type": "stream",
     "text": [
      "3\n"
     ]
    }
   ],
   "source": [
    "rusa= 0\n",
    "rusa= rusa+1\n",
    "rusa= rusa+2\n",
    "print(rusa)"
   ]
  },
  {
   "cell_type": "code",
   "execution_count": 16,
   "metadata": {},
   "outputs": [
    {
     "name": "stdout",
     "output_type": "stream",
     "text": [
      "3\n",
      "5\n",
      "7\n",
      "9\n",
      "11\n"
     ]
    }
   ],
   "source": [
    "var= [2,4,6,8,10]\n",
    "for rusa in var:\n",
    "    suma= rusa+1\n",
    "    print(suma)\n"
   ]
  },
  {
   "cell_type": "code",
   "execution_count": 17,
   "metadata": {},
   "outputs": [
    {
     "name": "stdout",
     "output_type": "stream",
     "text": [
      "2\n",
      "3\n",
      "4\n",
      "5\n",
      "6\n",
      "7\n",
      "8\n",
      "9\n"
     ]
    }
   ],
   "source": [
    "for i in range(1,9):\n",
    "    suma= i+1\n",
    "    print(suma)\n"
   ]
  },
  {
   "cell_type": "code",
   "execution_count": 14,
   "metadata": {},
   "outputs": [
    {
     "name": "stdout",
     "output_type": "stream",
     "text": [
      "Variable de iteracion 1 Resultado = 2\n",
      "Variable de iteracion 2 Resultado = 3\n",
      "Variable de iteracion 3 Resultado = 4\n",
      "Variable de iteracion 4 Resultado = 5\n",
      "Variable de iteracion 5 Resultado = 6\n",
      "Variable de iteracion 6 Resultado = 7\n",
      "Variable de iteracion 7 Resultado = 8\n",
      "Variable de iteracion 8 Resultado = 9\n"
     ]
    }
   ],
   "source": [
    "for i in range(1,9):\n",
    "    suma=i+1\n",
    "    print(\"Variable de iteracion\", i ,\"Resultado =\", suma)"
   ]
  },
  {
   "cell_type": "code",
   "execution_count": 18,
   "metadata": {},
   "outputs": [
    {
     "name": "stdout",
     "output_type": "stream",
     "text": [
      "rec 1\n",
      "rec 2\n",
      "rec 3\n",
      "rec 4\n",
      "rec 5\n"
     ]
    }
   ],
   "source": [
    "rec=1\n",
    "while rec<6:\n",
    "    print(\"rec\" ,rec)\n",
    "    rec=rec+1"
   ]
  },
  {
   "cell_type": "code",
   "execution_count": 26,
   "metadata": {},
   "outputs": [],
   "source": [
    "num=10\n",
    "while(num>=11):\n",
    "    print(num)"
   ]
  },
  {
   "cell_type": "code",
   "execution_count": 27,
   "metadata": {},
   "outputs": [
    {
     "name": "stdout",
     "output_type": "stream",
     "text": [
      "0\n"
     ]
    }
   ],
   "source": [
    "#Usando BREAK con FOR\n",
    "\n",
    "for i in range(5):\n",
    "    print(i)\n",
    "    break"
   ]
  },
  {
   "cell_type": "code",
   "execution_count": 40,
   "metadata": {},
   "outputs": [
    {
     "name": "stdout",
     "output_type": "stream",
     "text": [
      "p\n",
      "e\n",
      "r\n",
      "se encontro M\n"
     ]
    }
   ],
   "source": [
    "#BREAK usando FOR\n",
    "\n",
    "codigo= \"permite\"\n",
    "for letra in codigo:\n",
    "    if letra==\"m\":\n",
    "        print(\"se encontro M\")\n",
    "        break\n",
    "    print(letra)"
   ]
  },
  {
   "cell_type": "code",
   "execution_count": 44,
   "metadata": {},
   "outputs": [
    {
     "name": "stdout",
     "output_type": "stream",
     "text": [
      "6\n",
      "5\n",
      "4\n",
      "3\n",
      "FIN DEL BUCLE\n"
     ]
    }
   ],
   "source": [
    "#Nos posibilita interrumpir el bucle WHILE usando BREAK\n",
    "x=7\n",
    "while True:\n",
    "    x-=1\n",
    "    print(x)\n",
    "    if x==3:\n",
    "        break\n",
    "print(\"FIN DEL BUCLE\")    "
   ]
  },
  {
   "cell_type": "code",
   "execution_count": 46,
   "metadata": {},
   "outputs": [
    {
     "name": "stdout",
     "output_type": "stream",
     "text": [
      "p\n",
      "e\n",
      "r\n",
      "i\n",
      "t\n",
      "e\n"
     ]
    }
   ],
   "source": [
    "#SENTENCIA CONTINUE\n",
    "codigo= \"permite\"\n",
    "for letra in codigo:\n",
    "    if letra==\"m\":\n",
    "        continue\n",
    "    print(letra)"
   ]
  }
 ],
 "metadata": {
  "kernelspec": {
   "display_name": "Python 3.6.7 64-bit",
   "language": "python",
   "name": "python3"
  },
  "language_info": {
   "codemirror_mode": {
    "name": "ipython",
    "version": 3
   },
   "file_extension": ".py",
   "mimetype": "text/x-python",
   "name": "python",
   "nbconvert_exporter": "python",
   "pygments_lexer": "ipython3",
   "version": "3.6.7"
  },
  "orig_nbformat": 4,
  "vscode": {
   "interpreter": {
    "hash": "b1ff2dad5d053a4981556c726c0ceb495a435c5367e5bb3dd4119fee13c02cd6"
   }
  }
 },
 "nbformat": 4,
 "nbformat_minor": 2
}
